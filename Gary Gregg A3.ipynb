{
 "cells": [
  {
   "cell_type": "markdown",
   "metadata": {
    "deletable": true,
    "editable": true
   },
   "source": [
    "### DATA 512 – Human Centered Data Science, University of Washington, Autumn 2017\n",
    "\n",
    "# Study of Income Level versus Ethnicity Breakdown by ZIP Code in the United States\n",
    "### Gary C. Gregg, University of Washington\n",
    "garygr@uw.edu\n"
   ]
  },
  {
   "cell_type": "markdown",
   "metadata": {
    "deletable": true,
    "editable": true
   },
   "source": [
    "### Abstract\n",
    "\n",
    "Income inequality is a well documented feature of the American experience in the late 20th, and early 21st centuries. Inequality.org (see https://inequality.org/), a project of the Institute for Policy Studies since 2011, has been tracking the phenomenon for more than two decades. The organization asserts that income inequality has grown by every major statistical measure for some thirty years. In this study, our goal is to analyze and measure the effect across ZIP codes, and also to correlate the phenomenon to ethnicity. This proposal proceeds in five areas, an introduction to the research to be performed, the data to be used in the research, expected processing of the data, expected results of the research, and why the results of this research are important."
   ]
  },
  {
   "cell_type": "markdown",
   "metadata": {
    "deletable": true,
    "editable": true
   },
   "source": [
    "### 1. Introduction\n",
    "\n",
    "At https://inequality.org/facts/income-inequality/, Inequality.org shows that - as of 2015 - average household income of the bottom 10 percent of all U.S. households was \\$34,074.  At the same time, the top 10 percent earned \\$312,536, more than nine times as much.  Drilling into this top 10% we see average income increasing exponentially for households in the top 1 percent and top 0.1 percent.  As a percent of total U.S. income, the share held by the top 1 percent has increased from a low of 8.9 percent in 1974 to 22 percent today.  This rivals the 23.9 percent earned by the top 1 percent of U.S. households in the late 1920s, on the eve of the Great Depression.  The percent of total U.S. income earned by the type 0.1 percent of all U.S. households shows an even more stark difference.  Today, the percent of income earned by the top 0.1 percent of U.S. households reached an all-time high in 2008 on the eve of the Great Recession.  Today, this percentage has reclaimed much of the ground that it lost during this most recent recession, and is near its all-time high.\n",
    "\n",
    "In an article dated 26 March 2015 by Laura Shin, reporting for Forbes, gives statistics that show that net worth of African American and Latino families significantly lags that of Caucasian families. Additionally, she shows that home ownership rates are significantly less for those of minority ethnicity, and that even the return on a college education is less for these groups. Our research seeks to study an hypothesized disparity in income by correlating income levels - by ZIP Code - to minority population percentages. Our study will focus on the New York City area. By limiting the geographic range of the study, we hope to control factors that may result from considering more widely disparate areas."
   ]
  },
  {
   "cell_type": "markdown",
   "metadata": {
    "deletable": true,
    "editable": true
   },
   "source": [
    "### 2. Data\n",
    "\n",
    "We will use two datasets for this study.  First, we will use income data for 2015 provided by the Internal Revenue Service (IRS), broken down by ZIP code.  The dataset is entitled, \"SOI Tax Stats - Individual Income Tax Statistics - 2015 ZIP Code Data (SOI),\" and available at https://www.irs.gov/statistics/soi-tax-stats-individual-income-tax-statistics-2015-zip-code-data-soi.  The data is provided in Excel spreadsheet format, and includes a wide range of statistics regarding tax returns, indexed by ZIP code.  Our second dataset is provided by the city of New York, entitled \"Demographic Statistics By Zip Code,\" and is available at https://catalog.data.gov/dataset/demographic-statistics-by-zip-code-acfc9.  This second dataset provides ethnic breakdowns within ZIP codes within the city of New York.  It is hoped that the indexing of both datasets by ZIP will allow an straightforward correlation of ethnicity statistics with income levels.\n",
    "\n",
    "This study may not be limited by the datasets thus far identified.  As required, additional data may be sought out, or discovered in the course of this research that will assist in either supporting, or refuting our hypotheses."
   ]
  },
  {
   "cell_type": "markdown",
   "metadata": {
    "deletable": true,
    "editable": true
   },
   "source": [
    "### 3. Processing\n",
    "\n",
    "In its most convenient format, the income level statistics provided by the IRS is available as an Excel spreadsheet. We propose, firstly, to export the entirety of the data in the format of comma-separated values (csv). These data are significantly more extensive than we will require. For example, they contain more than just simple income levels. They also contains average statistics for many other features of tax returns. We propose to strip away all data that is unlikely either to support, or reverse our hypothesis regarding average income level and ethnicity. This may include only income levels, but other data in this set may find use in the study. Next, we will limit ZIP codes from the data only to those for which we have corresponding statistics in the New York Study ethnicity study.\n",
    "\n",
    "The New York Study ethnicity study is available in \"csv\" format, but contains many more features than an indication of ethnicity. For example, the study indicates what number of residents in each ZIP code is receiving public assistance, what number are citizens versus resident aliens, and so forth. Time permitting, our study may find use for these additional statistics, but our focus will be to either find supporting, or refuting evidence that income inequality is correlated with ethnicity.\n",
    "\n",
    "Preparation, and analysis of the data will occur using the Python programming language, with a final exposition of the code, resulting calculations, and graphical presentations occurring in the Jupyter Notebook framework. Initial code preparation may be aided with the PyCharm integrated development environment. PyCharm is expected to ease code formatting/reformatting, variable renaming, block text movement, and debugging.  Some analysis of the data may also occur with the R programming language, and the RStudio development environment.  We anticipate R and its development tools for areas of data exploration where this language and its toolset are strongest.  The deliverable materials, however, will all be in Python."
   ]
  },
  {
   "cell_type": "markdown",
   "metadata": {
    "deletable": true,
    "editable": true
   },
   "source": [
    "### 4. Expected Results\n",
    "\n",
    "Our initial hypothesis is that there is a dramatic difference in average income level and ethnic makeup for the geographic area under consideration. Although the data in this study may not directly support it, we expect any findings we uncover in the New York City area will be broadly applicable to the United States as a whole."
   ]
  },
  {
   "cell_type": "markdown",
   "metadata": {
    "deletable": true,
    "editable": true
   },
   "source": [
    "### 5. Why Is this Important?\n",
    "\n",
    "Income inequality, particularly as it correlates to ethnicity, is a significant problem for the overall societal health of the United States. This author believes that to encourage a framework of \"equality of opportunity\" (as opposed to \"equality of condition\") will ultimately benefit every American.\n",
    "\n",
    "The United States has a long legacy of struggle in achieving a goal of equal opportunity. While the study will not statistically address the causes of income inequality based on ethnicity, we suggest that systemic and latent prejudices result in less opportunity for these groups. Lessened opportunity translates in difficulty at all ages for persons in minority groups to attain high levels of education. Lower education, and the same systemic prejudices result in less opportunity for minority groups to obtain the most lucrative types of employment. The results of less opportunity for these groups mean lower standards of living, more crime, more violence, and higher levels of incarceration for the affected groups. This author believes that any study that highlights a lack of opportunity in either education or income advancement - based on ethnicity - will aid in the overall goal of achieving equality of opportunity. When this goal is achieved, we believe that the long term result will be that income inequality based on ethnicity will be reduced, and ultimately vanish.\n"
   ]
  }
 ],
 "metadata": {
  "kernelspec": {
   "display_name": "Python 3",
   "language": "python",
   "name": "python3"
  },
  "language_info": {
   "codemirror_mode": {
    "name": "ipython",
    "version": 3
   },
   "file_extension": ".py",
   "mimetype": "text/x-python",
   "name": "python",
   "nbconvert_exporter": "python",
   "pygments_lexer": "ipython3",
   "version": "3.6.0"
  }
 },
 "nbformat": 4,
 "nbformat_minor": 2
}
